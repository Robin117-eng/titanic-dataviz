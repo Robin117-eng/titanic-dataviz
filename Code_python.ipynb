{
 "cells": [
  {
   "cell_type": "code",
   "execution_count": null,
   "id": "38ca3fc1-6c4e-4bb9-ae9d-c324871aedb0",
   "metadata": {},
   "outputs": [],
   "source": [
    "# recolter une valeur porte monnaie\n",
    "wallet = int(input(\"Entrer le nombre d'€ que vous possedez\"))\n",
    "print(\"Vous avez actuellement\", wallet, \"euros\")\n",
    " \n",
    "# creer un produit qui aura pour valeur 50\n",
    "produit = 50\n",
    "print(\"Le Produit vaut \", produit, \"euros\")\n",
    " \n",
    "# enleve au \"wallet\" le prix du produit\n",
    "wallet = wallet - produit\n",
    "# ou wallet -= produit\n",
    " \n",
    "# afficher la nouvelle valeur\n",
    "print(\"Produit acheté !\")\n",
    "print(\"Il ne vous reste plus que\", wallet, \"euros\")"
   ]
  }
 ],
 "metadata": {
  "kernelspec": {
   "display_name": "Python 3 (ipykernel)",
   "language": "python",
   "name": "python3"
  },
  "language_info": {
   "codemirror_mode": {
    "name": "ipython",
    "version": 3
   },
   "file_extension": ".py",
   "mimetype": "text/x-python",
   "name": "python",
   "nbconvert_exporter": "python",
   "pygments_lexer": "ipython3",
   "version": "3.13.0"
  }
 },
 "nbformat": 4,
 "nbformat_minor": 5
}
